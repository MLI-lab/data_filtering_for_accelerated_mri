{
 "cells": [
  {
   "cell_type": "code",
   "execution_count": null,
   "id": "fbc914e0-76f1-468c-94e0-17798c3abd6c",
   "metadata": {},
   "outputs": [],
   "source": [
    "from utils import bootstrap_eval"
   ]
  },
  {
   "cell_type": "code",
   "execution_count": null,
   "id": "ee6adb29-8194-40ae-b4f4-d44902059bd6",
   "metadata": {},
   "outputs": [],
   "source": [
    "load_dir_1 = '/mnt/hdd_pool_zion/projects/data_filtering_mri/exp_data_kl/outputs/evals/End2EndSetup_data_pool_random_volume_subset_120k_epochs=20_eval_2d_curated_v2_varnet-large_c8/'\n",
    "load_dir_2 = '/mnt/hdd_pool_zion/projects/data_filtering_mri/exp_data_kl/outputs/evals/End2EndSetup_data_pool_random_volume_subset_360k_epochs=15_eval_2d_curated_v2_varnet-large_c8/'\n",
    "df_bootstrap = bootstrap_eval(load_dir_1, load_dir_2, device='cuda:1')"
   ]
  },
  {
   "cell_type": "code",
   "execution_count": null,
   "id": "804da2b2-c82f-4a9e-aaff-812020cfd547",
   "metadata": {},
   "outputs": [],
   "source": [
    "df_bootstrap['SSIM_normal'].hist()"
   ]
  },
  {
   "cell_type": "code",
   "execution_count": null,
   "id": "a859ef62-c9b4-429a-9fbe-ad5c30ed1e6a",
   "metadata": {},
   "outputs": [],
   "source": [
    "low = df_bootstrap.quantile(q=0.025, numeric_only=True)\n",
    "high = df_bootstrap.quantile(q=0.975, numeric_only=True)\n",
    "metrics = ['SSIM_normal', 'PSNR_normal', 'LPIPS_normal']\n",
    "s = \"\\\\makecell[tr]{\"\n",
    "for metric in metrics:\n",
    "    l = low[metric]*1000\n",
    "    h = high[metric]*1000\n",
    "    if metric == 'PSNR_normal':\n",
    "        s = s + f\"{l:.1f}, {h:.1f}\\\\\\\\ \"\n",
    "    else:\n",
    "        s = s + f\"{l:.1f}, {h:.1f}\\\\\\\\ \"\n",
    "s = s[:-3] + '} &'\n",
    "print(s)"
   ]
  },
  {
   "cell_type": "code",
   "execution_count": null,
   "id": "a9cc913a-f74c-4574-b68b-0436344b9f93",
   "metadata": {},
   "outputs": [],
   "source": []
  }
 ],
 "metadata": {
  "kernelspec": {
   "display_name": "Python 3 (ipykernel)",
   "language": "python",
   "name": "python3"
  },
  "language_info": {
   "codemirror_mode": {
    "name": "ipython",
    "version": 3
   },
   "file_extension": ".py",
   "mimetype": "text/x-python",
   "name": "python",
   "nbconvert_exporter": "python",
   "pygments_lexer": "ipython3",
   "version": "3.10.13"
  }
 },
 "nbformat": 4,
 "nbformat_minor": 5
}
